{
 "cells": [
  {
   "cell_type": "markdown",
   "id": "08c9c4ff",
   "metadata": {},
   "source": [
    "## Convert .dat files to .csv files"
   ]
  },
  {
   "cell_type": "code",
   "execution_count": 1,
   "id": "beb85519",
   "metadata": {},
   "outputs": [],
   "source": [
    "import os\n",
    "import glob\n",
    "import pandas as pd\n",
    "\n",
    "# Set the path to the folder containing the dat files\n",
    "folder_path = r'C:\\Users\\r04ra18\\Desktop\\Data-Model-4\\Data-Model-6\\Model-6-well-data'\n",
    "\n",
    "# Loop over all dat files in the folder\n",
    "for file_path in glob.glob(os.path.join(folder_path, '*.dat')):\n",
    "    # Read the dat file\n",
    "    data = pd.read_csv(file_path, delimiter='\\t')\n",
    "    \n",
    "    # Create the path and name of the output CSV file\n",
    "    csv_file_path = os.path.splitext(file_path)[0] + '.csv'\n",
    "    \n",
    "    # Save the data as a CSV file\n",
    "    data.to_csv(csv_file_path, index=False)\n"
   ]
  },
  {
   "cell_type": "code",
   "execution_count": null,
   "id": "75e0ef92",
   "metadata": {},
   "outputs": [],
   "source": []
  }
 ],
 "metadata": {
  "kernelspec": {
   "display_name": "ML_env",
   "language": "python",
   "name": "ml_env"
  },
  "language_info": {
   "codemirror_mode": {
    "name": "ipython",
    "version": 3
   },
   "file_extension": ".py",
   "mimetype": "text/x-python",
   "name": "python",
   "nbconvert_exporter": "python",
   "pygments_lexer": "ipython3",
   "version": "3.9.16"
  }
 },
 "nbformat": 4,
 "nbformat_minor": 5
}
