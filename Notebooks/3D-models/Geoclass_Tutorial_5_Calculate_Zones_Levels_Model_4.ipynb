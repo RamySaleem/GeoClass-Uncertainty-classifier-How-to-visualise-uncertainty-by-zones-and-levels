{
 "cells": [
  {
   "cell_type": "markdown",
   "metadata": {},
   "source": [
    "# Calculate Zones and Levels"
   ]
  },
  {
   "cell_type": "markdown",
   "metadata": {},
   "source": [
    "![Model Image](https://i.imgur.com/t0bCGIg.jpg)"
   ]
  },
  {
   "cell_type": "code",
   "execution_count": 37,
   "metadata": {},
   "outputs": [],
   "source": [
    "# import needed libraries\n",
    "import open3d as o3d\n",
    "import pandas as pd\n",
    "from scipy.spatial import Delaunay\n",
    "import numpy as np\n",
    "from copy import deepcopy as copy\n",
    "from tqdm import tqdm"
   ]
  },
  {
   "cell_type": "markdown",
   "metadata": {},
   "source": [
    "Zone-1 already define by user since it is the source of information."
   ]
  },
  {
   "cell_type": "code",
   "execution_count": 54,
   "metadata": {},
   "outputs": [],
   "source": [
    "# open and read the model file\n",
    "# use your own directory to dataset - this is your interpreted horizons \n",
    "interprets = r\"C:\\Users\\r04ra18\\Desktop\\v1\\GeoClass\\3D-Models-Data\\Model-4\\Data-Model-4-222\\interpretations.csv\"\n",
    "\n",
    "# Define the uncertainty distance between the data source (100 m) on the y-direction due to separation, scale and complicity.\n",
    "# here define the distance between outcrops and boreholes that define zone-2.\n",
    "\n",
    "y_dist = 50\n",
    "\n",
    "\n",
    "# Source of information\n",
    "############################################################\n",
    "# This is the your source of information - boreholes, galleries, shafts, horizontal wells\n",
    "# tw1 = Tunnel 1 or horizontal well\n",
    "# open and read the data source files\n",
    "# Define the uncertainty distance (100 m) on the x-direction due to separation, scale and complicity\n",
    "\n",
    "uncertainity_distance = 50\n",
    "\n",
    "geoclass = {\n",
    "    r\"C:\\Users\\r04ra18\\Desktop\\v1\\GeoClass\\3D-Models-Data\\Model-4\\Data-Model-4-222\\Tunnel_Well.csv\":uncertainity_distance,\n",
    "    r\"C:\\Users\\r04ra18\\Desktop\\v1\\GeoClass\\3D-Models-Data\\Model-4\\Data-Model-4-222\\Tunnel_Well_65.csv\":uncertainity_distance,\n",
    "    r\"C:\\Users\\r04ra18\\Desktop\\v1\\GeoClass\\3D-Models-Data\\Model-4\\Data-Model-4-222\\Tunnel_Well_66.csv\":uncertainity_distance,\n",
    "    r\"C:\\Users\\r04ra18\\Desktop\\v1\\GeoClass\\3D-Models-Data\\Model-4\\Data-Model-4-222\\Tunnel_Well_67.csv\":uncertainity_distance,\n",
    "    r\"C:\\Users\\r04ra18\\Desktop\\v1\\GeoClass\\3D-Models-Data\\Model-4\\Data-Model-4-222\\Tunnel_Well_68.csv\":uncertainity_distance,\n",
    "    r\"C:\\Users\\r04ra18\\Desktop\\v1\\GeoClass\\3D-Models-Data\\Model-4\\Data-Model-4-222\\model-4-222-outcrops.csv\":uncertainity_distance,\n",
    "}"
   ]
  },
  {
   "cell_type": "code",
   "execution_count": 55,
   "metadata": {},
   "outputs": [
    {
     "name": "stderr",
     "output_type": "stream",
     "text": [
      "100%|████████████████████████████████████████████████████████████████████████████████████| 6/6 [00:54<00:00,  9.17s/it]\n"
     ]
    }
   ],
   "source": [
    "# Read the columns of x, y & z values of the csv file assigned to the variable ‘interprets’. \n",
    "# Read a comma-separated values (csv) file into DataFrame.\n",
    "# Create a PointCloud class, consists of point coordinates, and point colors.\n",
    "# Convert float64 numpy array of shape (n, 3) to Open3D format.\n",
    "# paint_uniform_color paints all the points to a uniform color. The color is in RGB space, [0, 1] range.\n",
    "# calculate the number of points using the len() function.\n",
    "\n",
    "interprets_pc = pd.read_csv(interprets, usecols = [\"x\", \"y\", \"z\"])\n",
    "interprets_pc_pts = interprets_pc.values\n",
    "interprets_pcd = o3d.geometry.PointCloud()\n",
    "interprets_pcd.points = o3d.utility.Vector3dVector(interprets_pc_pts)\n",
    "interprets_pcd.paint_uniform_color([0, 0, 1.0])\n",
    "\n",
    "# we clculate the number of points using the len() function to returns the number of point in our zone \n",
    "# and return a new array of given shape and type, filled with zeros.\n",
    "\n",
    "shortest_distances = np.zeros((len(list(geoclass.keys())), len(interprets_pc_pts)))\n",
    "\n",
    "# we use the for loop to iterate through the data source and return a new array (x,y) of given shape and type, filled with zeros.\n",
    "# we use the enumerate() method adds counter to an iterable and returns it (the enumerate object).\n",
    "# Read the columns of x, y & z values of the csv file assigned to the variable ‘uncertainty_distance’. \n",
    "# Read a comma-separated values in (csv) file into DataFrame.\n",
    "# Create a PointCloud class of outcrops, vertical and horizontal wells. \n",
    "# A point cloud consists of point coordinates, and optionally point colors and point normals.\n",
    "# Convert float64 numpy array of shape (n, 3) to Open3D format.\n",
    "# Convert the input to an array and Returns the indices that would sort an array and return a sorted copy of an array.\n",
    "\n",
    "for idx, key in enumerate(geoclass.keys()):\n",
    "    geoclass_pc_pts = pd.read_csv(key, usecols = [\"x\", \"y\", \"z\"]).values\n",
    "    # print(\"geoclass_pc_pts\", target_pc_pts.shape)\n",
    "    geoclass_pcd = o3d.geometry.PointCloud()\n",
    "    geoclass_pcd.points = o3d.utility.Vector3dVector(geoclass_pc_pts)\n",
    "    distances = np.asarray(interprets_pcd.compute_point_cloud_distance(geoclass_pcd))\n",
    "    shortest_distances[idx] = distances\n",
    "two_min = np.argsort(shortest_distances, axis = 0)[:2]\n",
    "shortest_distances = np.sort(shortest_distances,axis = 0)\n",
    "valid_distances = np.sum(shortest_distances[:2], axis = 0) <= y_dist\n",
    "\n",
    "def in_hull(p, hull):\n",
    "        if not isinstance(hull,Delaunay):\n",
    "            hull = Delaunay(hull)\n",
    "\n",
    "        return hull.find_simplex(p)>=0\n",
    "\n",
    "lies_or_not = {}\n",
    "for idx, key in enumerate(geoclass.keys()):\n",
    "    for jdx, jkey in enumerate(geoclass.keys()):\n",
    "        if idx != jdx:\n",
    "            hull_points = np.vstack((pd.read_csv(key, usecols = [\"x\", \"y\", \"z\"]).values, \\\n",
    "                                    pd.read_csv(jkey, usecols = [\"x\", \"y\", \"z\"]).values))\n",
    "            lies_or_not[str(idx)+str(jdx)] = in_hull(interprets_pc_pts,hull_points)\n",
    "\n",
    "total_ans = np.zeros(len(interprets_pc_pts))\n",
    "geometries = []\n",
    "keys = list(geoclass.keys())\n",
    "for key in tqdm(geoclass.keys()):\n",
    "    geoclass_pc_pts = pd.read_csv(key, usecols = [\"x\", \"y\", \"z\"]).values\n",
    "    geoclass_pcd = o3d.geometry.PointCloud()\n",
    "    geoclass_pcd.points = o3d.utility.Vector3dVector(geoclass_pc_pts)\n",
    "    geoclass_pcd.paint_uniform_color([1.0, 0, 0])\n",
    "\n",
    "    geoclass[key]+=0.01\n",
    "    sphere_mesh = o3d.geometry.TriangleMesh.create_sphere(geoclass[key],10)\n",
    "    sphere_pts = np.asarray(np.asarray(sphere_mesh.vertices))\n",
    "    sphere = o3d.geometry.PointCloud()\n",
    "    sphere.points = o3d.utility.Vector3dVector(sphere_pts)\n",
    "\n",
    "    to_expand_pcd = copy(geoclass_pcd)\n",
    "    to_expand_pcd_pts = np.asarray(to_expand_pcd.points)\n",
    "    expanded_pts = np.array([[to_expand_pcd_pts[0][0],to_expand_pcd_pts[0][1],to_expand_pcd_pts[0][2]]])\n",
    "    for i in to_expand_pcd_pts:\n",
    "        expanded_pts = np.vstack((expanded_pts, i+sphere_pts))\n",
    "\n",
    "    expanded_pcd = o3d.geometry.PointCloud()\n",
    "    expanded_pcd.points = o3d.utility.Vector3dVector(expanded_pts)\n",
    "\n",
    "    hull, _ = expanded_pcd.compute_convex_hull()\n",
    "    hull_ls = o3d.geometry.LineSet.create_from_triangle_mesh(hull)\n",
    "    hull_ls.paint_uniform_color((0, 1, 1)) #looseboundgraphicCYAN\n",
    "\n",
    "    hull_hard, _ = geoclass_pcd.compute_convex_hull()\n",
    "    hull_ls_hard = o3d.geometry.LineSet.create_from_triangle_mesh(hull_hard)\n",
    "    hull_ls_hard.paint_uniform_color((1, 0, 0)) #rigidboundRED\n",
    "\n",
    "    def in_hull(p, hull):\n",
    "        if not isinstance(hull,Delaunay):\n",
    "            hull = Delaunay(hull)\n",
    "\n",
    "        return hull.find_simplex(p)>=0\n",
    "\n",
    "    ans_losen = in_hull(interprets_pc_pts, expanded_pts)\n",
    "    ans_hard = in_hull(interprets_pc_pts, geoclass_pc_pts)\n",
    "\n",
    "    for i in range(len(total_ans)):\n",
    "        # hull_points = np.vstack((pd.read_csv(keys[two_min[0][i]], usecols = [\"x\", \"y\", \"z\"]).values, \\\n",
    "        #                         pd.read_csv(keys[two_min[1][i]], usecols = [\"x\", \"y\", \"z\"]).values))\n",
    "        # print(hull_points.shape)\n",
    "        if valid_distances[i] == True and total_ans[i] != 1 and lies_or_not[str(two_min[0][i])+str(two_min[1][i])][i]:\n",
    "            total_ans[i] = 2\n",
    "        if ans_hard[i] == True:\n",
    "            total_ans[i] = 1\n",
    "        if ans_hard[i] == False and ans_losen[i] == True and total_ans[i] != 1:\n",
    "            total_ans[i] = 3\n",
    "        if ans_hard[i] == False and ans_losen[i] == False and interprets_pc_pts[i][-1] > 0 and total_ans[i] != 1:\n",
    "            total_ans[i] = 5\n",
    "    if geoclass[key] != 0.01:\n",
    "        geometries.append(hull_ls)\n",
    "    geometries.append(hull_ls_hard)\n",
    "\n",
    "interprets_pcd_true = o3d.geometry.PointCloud()\n",
    "interprets_pcd_true.points = o3d.utility.Vector3dVector(interprets_pc_pts[total_ans == 1])\n",
    "interprets_pcd_false = o3d.geometry.PointCloud()\n",
    "interprets_pcd_false.points = o3d.utility.Vector3dVector(interprets_pc_pts[total_ans == 0])\n",
    "interprets_pcd_losen = o3d.geometry.PointCloud()\n",
    "interprets_pcd_losen.points = o3d.utility.Vector3dVector(interprets_pc_pts[total_ans == 3])\n",
    "interprets_pcd_false_zpos = o3d.geometry.PointCloud()\n",
    "interprets_pcd_false_zpos.points = o3d.utility.Vector3dVector(interprets_pc_pts[total_ans == 5])\n",
    "interprets_pcd_y = o3d.geometry.PointCloud()\n",
    "interprets_pcd_y.points = o3d.utility.Vector3dVector(interprets_pc_pts[total_ans == 2])\n",
    "\n",
    "interprets_pcd_true.paint_uniform_color([0, 1, 0])   #inside/1\n",
    "interprets_pcd_false.paint_uniform_color([0.698, 0.133, 0.133])  #outside/0\n",
    "interprets_pcd_false_zpos.paint_uniform_color([0.5, 0.5, 0.5])  #outsidepos/5\n",
    "interprets_pcd_losen.paint_uniform_color([1, 0, 1])  #within100/2\n",
    "interprets_pcd_y.paint_uniform_color([0, 0, 1])  #within_y\n",
    "geometries.append(interprets_pcd_true)\n",
    "geometries.append(interprets_pcd_false)\n",
    "geometries.append(interprets_pcd_losen)\n",
    "geometries.append(interprets_pcd_y)\n",
    "geometries.append(interprets_pcd_false_zpos)\n",
    "\n",
    "o3d.visualization.draw_geometries(geometries)\n",
    "o3d.visualization.draw_geometries([interprets_pcd_true, interprets_pcd_false, interprets_pcd_false_zpos, interprets_pcd_losen, interprets_pcd_y])\n",
    "\n",
    "interprets_pc_add = pd.read_csv(interprets)\n",
    "interprets_pc_add['uncertaintyclasses'] = total_ans\n",
    "interprets_pc_add.to_csv(\"level_1to5.csv\")\n",
    "df = pd.read_csv('level_1to5.csv')\n",
    "\n",
    "level_1 = df[df['uncertaintyclasses']==1]\n",
    "level_2 = df[df['uncertaintyclasses']==2]\n",
    "level_3 = df[df['uncertaintyclasses']==3]\n",
    "level_4 = df[df['uncertaintyclasses']==0]\n",
    "level_5 = df[df['uncertaintyclasses']==5]\n",
    "\n",
    "level_1.to_csv('level_1.csv', index=False)\n",
    "level_2.to_csv('level_2.csv', index=False)\n",
    "level_3.to_csv('level_3.csv', index=False)\n",
    "level_4.to_csv('level_4.csv', index=False)\n",
    "level_5.to_csv('level_5.csv', index=False)"
   ]
  },
  {
   "attachments": {},
   "cell_type": "markdown",
   "metadata": {},
   "source": [
    "\"3D model displayed the created zones using Open3D\"\n",
    "![image.png](https://i.imgur.com/4zuxYmi.jpg)"
   ]
  },
  {
   "attachments": {},
   "cell_type": "markdown",
   "metadata": {},
   "source": [
    "\"3D model displayed the calculated levels using Open3D\"\n",
    "![image-2.png](https://i.imgur.com/805y4zg.jpg)"
   ]
  },
  {
   "cell_type": "markdown",
   "metadata": {},
   "source": [
    "For a Detailed Explanation, see  \"Geoclass_Tutorial_3_Detailed_Explanation_of_the_Method\""
   ]
  },
  {
   "cell_type": "markdown",
   "metadata": {},
   "source": [
    "Prepared by: \n",
    "***Ramy Abdallah***"
   ]
  },
  {
   "cell_type": "markdown",
   "metadata": {},
   "source": [
    "***Thank you!***"
   ]
  }
 ],
 "metadata": {
  "kernelspec": {
   "display_name": "geocomp",
   "language": "python",
   "name": "geocomp"
  },
  "language_info": {
   "codemirror_mode": {
    "name": "ipython",
    "version": 3
   },
   "file_extension": ".py",
   "mimetype": "text/x-python",
   "name": "python",
   "nbconvert_exporter": "python",
   "pygments_lexer": "ipython3",
   "version": "3.9.10"
  }
 },
 "nbformat": 4,
 "nbformat_minor": 4
}
